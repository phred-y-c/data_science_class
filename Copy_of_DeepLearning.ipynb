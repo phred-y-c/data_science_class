{
  "nbformat": 4,
  "nbformat_minor": 0,
  "metadata": {
    "colab": {
      "provenance": [],
      "toc_visible": true
    },
    "kernelspec": {
      "name": "python3",
      "display_name": "Python 3"
    }
  },
  "cells": [
    {
      "metadata": {
        "id": "2vGEdP1nIWYa"
      },
      "cell_type": "markdown",
      "source": [
        "#Deep Learning\n",
        "\n",
        "<p class='vspace'>Deep learning is a type of machine learning with a multi-layered neural network. It is one of many machine learning methods for synthesizing data into a predictive form.\n",
        "</p>\n",
        "<div class='vspace'></div><div><img width='350px' src='http://apmonitor.com/do/uploads/Main/ai_overview.png' alt='' title='' /></div>\n",
        "<p class='vspace'>Two applications of deep learning are regression (predict outcome) and classification (distinguish among discrete options). In each case, there is training data that is used to adjust weights (unknown parameters) that minimize a loss function (objective function).\n",
        "\n",
        "This colab workbook is adapted from https://www.youtube.com/embed/zOCVTPb5DiM\n",
        "\n",
        "</p>\n",
        "<div class='vspace'></div>\n",
        "\n"
      ]
    },
    {
      "metadata": {
        "id": "7E_mKz5YMUF0"
      },
      "cell_type": "markdown",
      "source": [
        "<p class='vspace'>A trained model predicts outcomes based on new input conditions that aren't in the original data set. Some of the typical steps for building and deploying a deep learning application are data consolidation, data cleansing, model building, training, validation, and deployment. Example Python code is provided for each of the steps.\n",
        "</p>\n",
        "<div class='vspace'></div>\n",
        "\n",
        "##Data Preparation\n",
        "<ul><li>Consolidation - consolidation is the process of combining disparate data (Excel spreadsheet, PDF report, database, cloud storage) into a single repository.\n",
        "</li><li>Data Cleansing - bad data should be removed and may include outliers, missing entries, failed sensors, or other types of missing or corrupted information.\n",
        "</li><li>Inputs and Outputs - data is separated into inputs (explanatory variables) and outputs (supervisory signal). The inputs will be fed into a series of functions to produce an output prediction. The squared difference between the predicted output and the measured output is a typical loss (objective) function for fitting.  \n",
        "</li><li>Scaling - scaling all data (inputs and outputs) to a range of 0-1 can improve the training process.\n",
        "</li><li>Training and Validation - data is divided into training (e.g. 80%) and validation (e.g. 20%) sets so that the model fit can be evaluated independently of the training. Cross-validation is an approach to divide the training data into multiple sets that are fit separately. The parameter consistency is compared between the multiple models.\n",
        "</li></ul><div class='vspace'></div>\n",
        "<video controls autoplay loop>\n",
        "  <source src=\"/do/uploads/Main/keras_tutorial.mp4\" type=\"video/mp4\">\n",
        "  Your browser does not support the video tag.\n",
        "</video> \n"
      ]
    },
    {
      "metadata": {
        "id": "NbMMmh1nNc0V"
      },
      "cell_type": "markdown",
      "source": [
        "###1. Data Export with Numpy / Import with Pandas"
      ]
    },
    {
      "metadata": {
        "id": "9XOC8VEeJWUl",
        "cellView": "both"
      },
      "cell_type": "code",
      "source": [
        "import numpy as np\n",
        "import pandas as pd\n",
        "from sklearn.preprocessing import MinMaxScaler\n",
        "from keras.models import Sequential\n",
        "from keras.layers import *\n",
        "import matplotlib.pyplot as plt  \n",
        "\n",
        "# generate training data\n",
        "x = np.linspace(0.0,2*np.pi,20)\n",
        "y = np.sin(x)\n",
        "# save training data to file\n",
        "data = np.vstack((x,y)).T\n",
        "np.savetxt('train_data.csv',data,header='x,y',comments='',delimiter=',')\n",
        "\n",
        "# generate test data\n",
        "x = np.linspace(0.0,2*np.pi,100)\n",
        "y = np.sin(x)\n",
        "# save test data to file\n",
        "data = np.vstack((x,y)).T\n",
        "np.savetxt('test_data.csv',data,header='x,y',comments='',delimiter=',')\n"
      ],
      "execution_count": null,
      "outputs": []
    },
    {
      "metadata": {
        "id": "vqQSBs8NNh1F"
      },
      "cell_type": "markdown",
      "source": [
        "###2. Data Scaling with scikit-learn"
      ]
    },
    {
      "metadata": {
        "id": "GgLVIiWmJ24z",
        "colab": {
          "base_uri": "https://localhost:8080/"
        },
        "outputId": "66babead-9053-4d40-98fe-e5609d000acb"
      },
      "cell_type": "code",
      "source": [
        "# load training and test data with pandas\n",
        "train_df = pd.read_csv('train_data.csv')\n",
        "test_df = pd.read_csv('test_data.csv')\n",
        "\n",
        "# scale values to 0 to 1 for the ANN to work well\n",
        "s = MinMaxScaler(feature_range=(0,1))\n",
        "\n",
        "# scale training and test data\n",
        "sc_train = s.fit_transform(train_df)\n",
        "sc_test = s.transform(test_df)\n",
        "\n",
        "# print scaling adjustments\n",
        "print('Scalar multipliers')\n",
        "print(s.scale_)\n",
        "print('Scalar minimum')\n",
        "print(s.min_)\n",
        "\n",
        "# convert scaled values back to dataframe\n",
        "sc_train_df = pd.DataFrame(sc_train, columns=train_df.columns.values)\n",
        "sc_test_df = pd.DataFrame(sc_test, columns=test_df.columns.values)\n",
        "\n",
        "# save scaled values to CSV files\n",
        "sc_train_df.to_csv('train_scaled.csv', index=False)\n",
        "sc_test_df.to_csv('test_scaled.csv', index=False)\n"
      ],
      "execution_count": null,
      "outputs": [
        {
          "output_type": "stream",
          "name": "stdout",
          "text": [
            "Scalar multipliers\n",
            "[0.15915494 0.50171361]\n",
            "Scalar minimum\n",
            "[0.  0.5]\n"
          ]
        }
      ]
    },
    {
      "metadata": {
        "id": "637a3PkLNFBV"
      },
      "cell_type": "markdown",
      "source": [
        "##Model Build\n",
        "\n",
        "\n",
        "<p>An artificial neural network relates inputs to outputs with layers of nodes. There nodes are also called neurons because they emulate the learning process that occurs in the brain where the connection strength is adjusted to change the learned outcome.\n",
        "</p>\n",
        "<div class='vspace'></div><div><img width='300px' src='http://apmonitor.com/do/uploads/Main/neural_network.png' alt='' title='' /></div>\n",
        "<p class='vspace'>Instead of just one layer, deep learning uses a multi-layered neural network. This neural network may have linear or nonlinear layers. The layer form is determined by the type of activation function (e.g. linear, rectified linear unit (ReLU), hyperbolic tangent) that transforms each intermediate input to the next layer.\n",
        "</p>\n",
        "<div class='vspace'></div><div><img width='550px' src='http://apmonitor.com/do/uploads/Main/deep_neural_network.png' alt='' title='' /></div>\n",
        "<p class='vspace'>Linear layers at the beginning and end are common. Increasing the number of layers can improve the fit but also requires more computational power for training and may cause the model to be over-parameterized and decrease the predictive capability.\n",
        "</p>"
      ]
    },
    {
      "metadata": {
        "id": "fsiZ8Q42NrxG"
      },
      "cell_type": "markdown",
      "source": [
        "###3. Model Build and Train with Keras\n",
        "\n",
        "<p>A loss function (objective function) is minimized by adjusting the weights (unknown parameters) of the multi-layered neural network. An epoch is a full training cycle and is one iteration of the learning algorithm. A decrease in the loss function is monitored to ensure that the number of epochs is sufficient to refine the predictions without over-fitting to data irregularities such as random fluctuations.\n",
        "</p>"
      ]
    },
    {
      "metadata": {
        "id": "4esWzacmK5b5",
        "colab": {
          "base_uri": "https://localhost:8080/"
        },
        "outputId": "2aae1d77-4f46-4e2c-b678-6106695e3270"
      },
      "cell_type": "code",
      "source": [
        "# create neural network model\n",
        "model = Sequential()\n",
        "model.add(Dense(1, input_dim=1, activation='linear'))\n",
        "model.add(Dense(2, activation='linear'))\n",
        "model.add(Dense(2, activation='tanh'))\n",
        "model.add(Dense(2, activation='linear'))\n",
        "model.add(Dense(1, activation='linear'))\n",
        "model.compile(loss=\"mean_squared_error\", optimizer=\"adam\")\n",
        "\n",
        "# load training data\n",
        "train_df = pd.read_csv(\"train_scaled.csv\")\n",
        "X1 = train_df.drop('y', axis=1).values\n",
        "Y1 = train_df[['y']].values\n",
        "\n",
        "# train the model\n",
        "model.fit(X1,Y1,epochs=5000,verbose=0,shuffle=True)\n",
        "\n",
        "# Save the model to hard drive\n",
        "#model.save('model.h5')"
      ],
      "execution_count": null,
      "outputs": [
        {
          "output_type": "execute_result",
          "data": {
            "text/plain": [
              "<keras.callbacks.History at 0x7fdf4747c5b0>"
            ]
          },
          "metadata": {},
          "execution_count": 4
        }
      ]
    },
    {
      "metadata": {
        "id": "TRL-fjniNvaG"
      },
      "cell_type": "markdown",
      "source": [
        "###4. Model Validation with Keras\n",
        "\n",
        "\n",
        "<p>The validation test set assesses the ability of the neural network to predict based on new conditions that were not part of the training set. Parity plots are one of many graphical methods to assess the fit. Mean squared error (MSE) or the R<sup>2</sup> value are common quantitative measures of the fit.\n",
        "</p>\n"
      ]
    },
    {
      "metadata": {
        "id": "-0mc1QOGLmu2",
        "colab": {
          "base_uri": "https://localhost:8080/"
        },
        "outputId": "d3621ac7-6f25-4049-e9af-83cd9f393e01"
      },
      "cell_type": "code",
      "source": [
        "# Load the model from hard drive\n",
        "#model.load('model.h5')\n",
        "\n",
        "# load test data\n",
        "test_df = pd.read_csv(\"test_scaled.csv\")\n",
        "X2 = test_df.drop('y', axis=1).values\n",
        "Y2 = test_df[['y']].values\n",
        "\n",
        "# test the model\n",
        "mse = model.evaluate(X2,Y2, verbose=1)\n",
        "\n",
        "print('Mean Squared Error: ', mse)"
      ],
      "execution_count": null,
      "outputs": [
        {
          "output_type": "stream",
          "name": "stdout",
          "text": [
            "4/4 [==============================] - 0s 3ms/step - loss: 2.4160e-04\n",
            "Mean Squared Error:  0.00024159756139852107\n"
          ]
        }
      ]
    },
    {
      "metadata": {
        "id": "HxQVU3J5OV8Y"
      },
      "cell_type": "markdown",
      "source": [
        "###5. Model Predictions with Keras\n",
        "\n"
      ]
    },
    {
      "metadata": {
        "id": "M0D_uftQMEzy",
        "colab": {
          "base_uri": "https://localhost:8080/",
          "height": 448
        },
        "outputId": "5d7dbd49-a9f8-4ee2-9ee3-e76f93aa3ee2"
      },
      "cell_type": "code",
      "source": [
        "# generate prediction data\n",
        "x = np.linspace(-2*np.pi,4*np.pi,100)\n",
        "y = np.sin(x)\n",
        "# scale input\n",
        "X3 = x*s.scale_[0]+s.min_[0]\n",
        "# predict\n",
        "Y3P = model.predict(X3)\n",
        "# unscale output\n",
        "yp = (Y3P-s.min_[1])/s.scale_[1]\n",
        "\n",
        "plt.figure()\n",
        "plt.plot((X1-s.min_[0])/s.scale_[0], \\\n",
        "                 (Y1-s.min_[1])/s.scale_[1], \\\n",
        "                 'bo',label='train')\n",
        "plt.plot(x,y,'r-',label='actual')\n",
        "plt.plot(x,yp,'k--',label='predict')\n",
        "plt.legend(loc='best')\n",
        "plt.savefig('results.png')\n",
        "plt.show()"
      ],
      "execution_count": null,
      "outputs": [
        {
          "output_type": "stream",
          "name": "stdout",
          "text": [
            "4/4 [==============================] - 0s 3ms/step\n"
          ]
        },
        {
          "output_type": "display_data",
          "data": {
            "text/plain": [
              "<Figure size 640x480 with 1 Axes>"
            ],
            "image/png": "[encoded data removed]"
          },
          "metadata": {}
        }
      ]
    }
  ]
}